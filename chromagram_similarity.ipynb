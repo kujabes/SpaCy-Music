{
 "cells": [
  {
   "cell_type": "code",
   "execution_count": 8,
   "metadata": {},
   "outputs": [],
   "source": [
    "import numpy as np\n",
    "import matplotlib.pyplot as plt\n",
    "from scipy.spatial.distance import cosine"
   ]
  },
  {
   "cell_type": "code",
   "execution_count": 16,
   "metadata": {},
   "outputs": [],
   "source": [
    "# Find the cosine similarity between two matrices\n",
    "# i.e. cos(theta)\n",
    "def cosine_similarity(m1, m2):\n",
    "    flat1 = m1.flatten()\n",
    "    flat2 = m2.flatten()\n",
    "    return 1 - cosine(flat1, flat2)"
   ]
  },
  {
   "cell_type": "code",
   "execution_count": 18,
   "metadata": {},
   "outputs": [
    {
     "name": "stdout",
     "output_type": "stream",
     "text": [
      "1\n"
     ]
    }
   ],
   "source": [
    "m1 = np.array([[1, 2, 4],\n",
    "               [6, 2, 1]])\n",
    "\n",
    "m2 = np.array([[3, 2, 1],\n",
    "               [4, 1, 2]])\n",
    "\n",
    "print(cosine_similarity(m1, m1))"
   ]
  }
 ],
 "metadata": {
  "kernelspec": {
   "display_name": "nlp",
   "language": "python",
   "name": "python3"
  },
  "language_info": {
   "codemirror_mode": {
    "name": "ipython",
    "version": 3
   },
   "file_extension": ".py",
   "mimetype": "text/x-python",
   "name": "python",
   "nbconvert_exporter": "python",
   "pygments_lexer": "ipython3",
   "version": "3.9.18"
  }
 },
 "nbformat": 4,
 "nbformat_minor": 2
}
