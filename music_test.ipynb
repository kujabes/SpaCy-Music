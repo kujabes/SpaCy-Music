{
 "cells": [
  {
   "cell_type": "code",
   "execution_count": 1,
   "metadata": {},
   "outputs": [],
   "source": [
    "import spacy\n",
    "import numpy as np\n",
    "import pandas as pd"
   ]
  },
  {
   "cell_type": "code",
   "execution_count": 2,
   "metadata": {},
   "outputs": [
    {
     "name": "stderr",
     "output_type": "stream",
     "text": [
      "/Users/zyankarim/miniconda3/envs/npl/lib/python3.9/site-packages/tqdm/auto.py:21: TqdmWarning: IProgress not found. Please update jupyter and ipywidgets. See https://ipywidgets.readthedocs.io/en/stable/user_install.html\n",
      "  from .autonotebook import tqdm as notebook_tqdm\n"
     ]
    }
   ],
   "source": [
    "# load in medium english model\n",
    "nlp = spacy.load('en_core_web_md')"
   ]
  },
  {
   "cell_type": "code",
   "execution_count": 3,
   "metadata": {},
   "outputs": [],
   "source": [
    "# load in two \"happy\" songs and two \"sad\" songs\n",
    "\n",
    "# Blue Skies by Frank Sinatra\n",
    "blue_skies = nlp(\n",
    "    \"Blue skies, smiling at me \\\n",
    "    Nothing but blue skies do I see \\\n",
    "    Blue days, all of them gone \\\n",
    "    Nothing but blue skies from now on \\\n",
    "    Never saw the sun shining so bright \\\n",
    "    Never saw things looking so right \\\n",
    "    Noticing the days hurrying by \\\n",
    "    When you're in love, my how they fly like \\\n",
    "    Bluebirds singing a song \\\n",
    "    Nothing but bluebirds all day long \\\n",
    "    Blue skies, smiling at me \\\n",
    "    Nothing but blue skies do I see \\\n",
    "    Blue days, all of them gone \\\n",
    "    Nothing but blue skies from now on\"\n",
    ")\n",
    "\n",
    "# What a Wonderful World by Louis Armstrong\n",
    "wond_world = nlp(\n",
    "    \"I see trees of green \\\n",
    "    Red roses too \\\n",
    "    I see them bloom \\\n",
    "    For me and you \\\n",
    "    And I think to myself \\\n",
    "    What a wonderful world \\\n",
    "    I see skies of blue \\\n",
    "    And clouds of white \\\n",
    "    The bright blessed day \\\n",
    "    The dark sacred night \\\n",
    "    And I think to myself \\\n",
    "    What a wonderful world \\\n",
    "    The colors of the rainbow \\\n",
    "    So pretty in the sky \\\n",
    "    Are also on the faces \\\n",
    "    Of people going by \\\n",
    "    I see friends shaking hands \\\n",
    "    Saying, \\\"How do you do?\\\" \\\n",
    "    They\\'re really saying \\\n",
    "    I love you \\\n",
    "    I hear babies cry \\\n",
    "    I watch them grow \\\n",
    "    They\\'ll learn much more \\\n",
    "    Than I\\'ll ever know \\\n",
    "    And I think to myself \\\n",
    "    What a wonderful world \\\n",
    "    Yes, I think to myself \\\n",
    "    What a wonderful world \\\n",
    "    Ooh, yes\"\n",
    ")\n",
    "\n",
    "# The Sound of Silence by Simon and Garfunkel\n",
    "silence = nlp(\n",
    "    \"Hello darkness, my old friend \\\n",
    "    I\\'ve come to talk with you again \\\n",
    "    Because a vision softly creeping \\\n",
    "    Left its seeds while I was sleeping \\\n",
    "    And the vision that was planted in my brain \\\n",
    "    Still remains \\\n",
    "    Within the sound of silence \\\n",
    "    In restless dreams I walked alone \\\n",
    "    Narrow streets of cobblestone \\\n",
    "    \\'Neath the halo of a street lamp \\\n",
    "    I turned my collar to the cold and damp \\\n",
    "    When my eyes were stabbed by the flash of a neon light \\\n",
    "    That split the night \\\n",
    "    And touched the sound of silence \\\n",
    "    And in the naked light I saw \\\n",
    "    Ten thousand people, maybe more \\\n",
    "    People talking without speaking \\\n",
    "    People hearing without listening \\\n",
    "    People writing songs that voices never share \\\n",
    "    No one dared \\\n",
    "    Disturb the sound of silence \\\n",
    "    \\\"Fools\\\" said I, \\\"You do not know \\\n",
    "    Silence like a cancer grows \\\n",
    "    Hear my words that I might teach you \\\n",
    "    Take my arms that I might reach you\\\" \\\n",
    "    But my words like silent raindrops fell \\\n",
    "    And echoed in the wells of silence \\\n",
    "    And the people bowed and prayed \\\n",
    "    To the neon god they made \\\n",
    "    And the sign flashed out its warning \\\n",
    "    In the words that it was forming \\\n",
    "    And the sign said, \\\"The words of the prophets \\\n",
    "    Are written on the subway walls \\\n",
    "    And tenement halls \\\n",
    "    And whispered in the sounds of silence\\\" \"\n",
    ")\n",
    "\n",
    "# Mad World by Tears for Fears\n",
    "mad_world = nlp(\n",
    "    \"All around me are familiar faces \\\n",
    "    Worn out places, worn out faces \\\n",
    "    Bright and early for their daily races \\\n",
    "    Going nowhere, going nowhere \\\n",
    "    Their tears are filling up their glasses \\\n",
    "    No expression, no expression \\\n",
    "    Hide my head I want to drown my sorrow \\\n",
    "    No tomorrow, no tomorrow \\\n",
    "    And I find it kind of funny \\\n",
    "    I find it kind of sad \\\n",
    "    The dreams in which I\\'m dying are the best I\\'ve ever had \\\n",
    "    I find it hard to tell you \\'cause I find it hard to take \\\n",
    "    When people run in circles it\\'s a very, very \\\n",
    "    Mad world \\\n",
    "    Mad world \\\n",
    "    Mad world \\\n",
    "    Mad world \\\n",
    "    Children waiting for the day they feel good \\\n",
    "    Happy birthday, happy birthday \\\n",
    "    Made to feel the way that every child should \\\n",
    "    Sit and listen, sit and listen \\\n",
    "    Went to school and I was very nervous \\\n",
    "    No one knew me, no one knew me \\\n",
    "    Hello teacher tell me what's my lesson \\\n",
    "    Look right through me, look right through me \\\n",
    "    And I find it kind of funny \\\n",
    "    I find it kind of sad \\\n",
    "    The dreams in which I'm dying are the best I've ever had \\\n",
    "    I find it hard to tell you 'cause I find it hard to take \\\n",
    "    When people run in circles it\\'s a very, very \\\n",
    "    Mad world \\\n",
    "    Mad world \\\n",
    "    Mad world \\\n",
    "    Mad world \\\n",
    "    And I find it kind of funny \\\n",
    "    I find it kind of sad \\\n",
    "    The dreams in which I\\'m dying are the best I\\'ve ever had \\\n",
    "    I find it hard to tell you \\'cause I find it hard to take \\\n",
    "    When people run in circles it\\'s a very, very \\\n",
    "    Mad world \\\n",
    "    Mad world \\\n",
    "    Halargian world \\\n",
    "    Mad world\"\n",
    ")"
   ]
  },
  {
   "cell_type": "code",
   "execution_count": 12,
   "metadata": {},
   "outputs": [
    {
     "data": {
      "text/plain": [
       "array([-1.6105649e-01,  1.5048314e+00, -2.2400935e+00, -1.1907949e+00,\n",
       "        5.2207756e-01,  7.0708293e-01,  8.5140365e-01,  3.5908453e+00,\n",
       "       -1.5246084e+00,  1.4128714e+00,  5.1519098e+00,  1.2605333e+00,\n",
       "       -2.4804292e+00,  1.3832593e+00,  2.1707180e+00, -8.5454148e-01,\n",
       "        1.3992835e+00, -2.6970160e+00, -6.1144692e-01, -1.4785348e+00,\n",
       "        1.6495562e+00,  6.0866129e-01, -4.1942325e-01, -2.6877980e+00,\n",
       "       -4.3647963e-01, -1.5040514e+00, -2.2967060e+00, -6.2329817e-01,\n",
       "       -1.1443880e+00,  2.0811784e+00,  1.2184905e+00, -1.3351016e+00,\n",
       "       -3.4687915e-01, -1.0329645e+00, -1.0181212e+00, -6.0497308e-01,\n",
       "       -8.5618854e-01,  1.1309375e+00,  2.5195184e+00,  1.6039311e+00,\n",
       "       -6.6484934e-01,  1.8887173e+00,  5.8095473e-01, -8.9518064e-01,\n",
       "       -6.1474317e-01,  1.6667944e+00, -4.8030064e-01, -2.8424809e+00,\n",
       "       -7.7574277e-01,  2.3706181e+00, -1.3709800e-01,  5.6436223e-01,\n",
       "        8.8549030e-01, -3.5716527e+00, -1.4909728e+00, -5.8537185e-01,\n",
       "        6.9749320e-01,  8.8347906e-01,  1.0265982e+00,  9.1774160e-01,\n",
       "        1.9660329e+00, -1.0349654e+00, -1.6419910e-01, -1.0068223e+00,\n",
       "        2.9352182e-01,  5.9490901e-01, -3.2825851e+00, -2.6809888e+00,\n",
       "        7.7127677e-01,  1.6399525e+00, -1.9025974e-01,  1.1314145e-01,\n",
       "       -2.9956439e-01, -4.8450178e-01,  1.2725711e+00,  1.2311205e+00,\n",
       "       -2.7931433e+00,  6.4355612e-01, -1.9178627e+00, -1.4583042e+00,\n",
       "       -3.3939562e+00,  8.8274948e-02,  3.0840578e+00, -7.5672483e-01,\n",
       "        2.0715079e+00, -2.2557978e-01, -1.0463138e+00, -1.5990337e+00,\n",
       "        5.9795702e-01, -6.6441280e-01, -1.2280964e+00,  9.1405407e-02,\n",
       "        1.8846357e+00, -4.3237734e+00,  7.2827321e-01, -1.9001395e+00,\n",
       "        1.3465996e+00, -1.2896078e+00,  8.1599736e-01, -6.8617809e-01,\n",
       "        1.2182952e+00,  1.8825451e+00,  1.6463912e+00,  1.2779380e+00,\n",
       "       -1.9462880e+00,  1.9525139e+00, -1.8860544e+00, -8.5446769e-01,\n",
       "       -1.3721558e+00, -1.5166799e+00,  1.0182248e-01, -7.6382619e-01,\n",
       "        3.4516597e-01,  1.3437687e-01,  5.6749690e-01,  1.4170924e+00,\n",
       "       -1.2837853e+00, -1.4798406e+00,  6.3200766e-01, -4.0670907e-01,\n",
       "       -2.0117857e+00, -1.5407995e+00, -1.8640400e+00,  2.1871281e+00,\n",
       "       -6.6135448e-01, -1.1219195e+00,  1.2263178e+00, -1.5564951e+00,\n",
       "        1.1156682e+00,  1.5890279e-01, -1.8450285e+00, -1.2714139e-01,\n",
       "        1.7560928e+00, -7.4175751e-01, -1.6276424e-01,  1.5066751e+00,\n",
       "       -2.5210369e+00, -1.2947485e+00,  3.4509611e+00, -2.3457193e+00,\n",
       "       -2.0581851e+00, -8.2544529e-01,  1.2182963e+00,  1.5352905e+00,\n",
       "       -1.0555128e+00, -8.9645855e-02, -2.2591028e+00, -3.8983893e-01,\n",
       "       -6.7817807e-01, -6.4181007e-02, -7.5247860e-01,  2.0130737e+00,\n",
       "       -8.1959361e-01,  5.2896851e-01, -1.1148623e+00,  1.8207359e+00,\n",
       "        3.9228723e+00,  8.6200871e-02, -1.6620569e+00, -3.3637452e-01,\n",
       "       -4.0825057e-01, -2.5219710e+00, -2.1897969e+00,  8.6586517e-01,\n",
       "       -2.2968380e+00, -5.3332347e-01, -2.0677133e+00,  1.4212395e-01,\n",
       "       -1.0161734e+00, -1.3711533e-01,  1.8662431e+00,  7.1862773e-03,\n",
       "        1.1621853e+00,  1.2127988e+00,  1.4071420e+00, -1.4460542e+00,\n",
       "       -1.1623881e+00,  6.1763114e-01,  1.8202275e-01, -1.8379495e+00,\n",
       "       -6.3419682e-01, -2.3335934e-01,  3.6485035e+00, -3.5778263e-01,\n",
       "       -1.2375399e+00,  9.3596107e-01, -6.9751167e-01, -2.2913394e+00,\n",
       "        2.4390759e+00,  2.1418586e+00, -1.1564865e+00,  1.0793107e+00,\n",
       "       -1.5736105e+00, -7.1994531e-01, -9.4531488e-01, -8.6432946e-01,\n",
       "       -2.3694453e+00,  1.2968640e+00, -4.3893632e-01,  2.5391531e+00,\n",
       "       -1.8399775e+00, -1.1969830e-01, -1.7315916e+00, -1.6795064e+00,\n",
       "        3.3892041e-01,  9.9220192e-01, -1.2703661e+00, -1.2869459e-02,\n",
       "       -7.2365391e-01, -5.5821627e-01,  9.8692548e-01,  4.0311578e-01,\n",
       "        1.0083571e-01,  1.6781394e+00, -1.2770877e+00,  2.1739337e+00,\n",
       "       -5.7791907e-01, -6.9921303e-01, -7.8293556e-01, -2.6331913e-02,\n",
       "       -2.3173389e+00,  8.0492747e-01, -6.9314784e-01,  2.1795139e+00,\n",
       "       -7.5014341e-01, -1.7791426e+00,  8.6090404e-01,  1.3168942e+00,\n",
       "        2.0182736e+00,  1.4409245e+00, -1.6714208e+00, -2.8951325e+00,\n",
       "        4.1459575e-01,  4.9545705e-01,  1.9196349e-01,  1.2619150e+00,\n",
       "       -1.9403294e+00,  2.2312171e+00, -4.4814724e-02, -5.1120198e-01,\n",
       "       -2.2330539e+00,  4.6997824e-01,  1.5076796e+00, -1.5971825e-01,\n",
       "       -7.9288781e-02, -2.2995379e-03, -1.6701723e+00,  4.5298967e-01,\n",
       "        2.4519844e+00,  2.1712215e+00, -9.1896421e-01,  3.4303735e-03,\n",
       "       -4.9275503e+00,  1.1101173e-01, -2.9434600e-01, -2.7032843e+00,\n",
       "        8.9078873e-01,  1.5195353e-01, -1.4830137e+00,  1.6721544e+00,\n",
       "        8.3621818e-01,  2.9522145e+00,  1.8246026e+00,  2.1148524e+00,\n",
       "        1.5999721e+00, -5.0798070e-01, -1.5203832e-01,  1.8703489e+00,\n",
       "       -3.6832783e+00,  9.5473117e-01,  1.0134031e+00, -1.4785516e+00,\n",
       "       -1.5987792e+00, -1.1175855e+00, -3.5085261e-01, -1.3246119e+00,\n",
       "        1.5253774e+00, -2.0100298e+00, -1.0723479e+00,  1.5684717e+00,\n",
       "       -2.4117208e+00, -9.6734971e-01,  8.6611176e-01,  4.9043155e-01,\n",
       "        3.2736416e+00, -1.3698649e-01,  6.4760792e-01,  1.0287973e+00,\n",
       "       -2.2660847e+00,  1.8141842e-01,  1.8827006e+00, -1.1343387e+00,\n",
       "        9.0354830e-01, -1.1076351e+00, -1.6949403e+00, -4.8876929e-01,\n",
       "        1.2219396e+00,  1.2635012e+00, -3.7030063e+00,  1.5051469e+00],\n",
       "      dtype=float32)"
      ]
     },
     "execution_count": 12,
     "metadata": {},
     "output_type": "execute_result"
    }
   ],
   "source": [
    "mad_world.vector"
   ]
  },
  {
   "cell_type": "code",
   "execution_count": 4,
   "metadata": {},
   "outputs": [
    {
     "name": "stdout",
     "output_type": "stream",
     "text": [
      "Blue Skies <-> What a Wonderful World: 0.8942985693398715\n",
      "Blue Skies <-> The Sound of Silence: 0.879295268353476\n",
      "Blue Skies <-> Mad World: 0.8973674854927597\n",
      "What a Wonderful World <-> The Sound of Silence: 0.8683464537820359\n",
      "What a Wonderful World <-> Mad World: 0.9570395874858139\n",
      "The Sound of Silence <-> Mad World: 0.8872459668576334\n"
     ]
    }
   ],
   "source": [
    "songs = [\n",
    "    [\"Blue Skies\", blue_skies],\n",
    "    [\"What a Wonderful World\", wond_world],\n",
    "    [\"The Sound of Silence\", silence],\n",
    "    [\"Mad World\", mad_world]\n",
    "]\n",
    "\n",
    "# Raw comparison without any adjustments\n",
    "for i in range(len(songs)):\n",
    "    s1_name = songs[i][0]\n",
    "    s1_song = songs[i][1]\n",
    "    for j in range(i + 1, len(songs)):\n",
    "        s2_name = songs[j][0]\n",
    "        s2_song = songs[j][1]\n",
    "        print(f'{s1_name} <-> {s2_name}: {s1_song.similarity(s2_song)}')"
   ]
  },
  {
   "cell_type": "code",
   "execution_count": 5,
   "metadata": {},
   "outputs": [
    {
     "data": {
      "text/plain": [
       "[['Blue Skies',\n",
       "  Blue skies , smiling      blue skies      Blue days , gone      blue skies      saw sun shining bright      saw things looking right      Noticing days hurrying      love , fly like      Bluebirds singing song      bluebirds day long      Blue skies , smiling      blue skies      Blue days , gone      blue skies],\n",
       " ['What a Wonderful World',\n",
       "  trees green      Red roses      bloom           think      wonderful world      skies blue      clouds white      bright blessed day      dark sacred night      think      wonderful world      colors rainbow      pretty sky      faces      people going      friends shaking hands      Saying , \" ? \"      saying      love      hear babies cry      watch grow      learn      know      think      wonderful world      Yes , think      wonderful world      Ooh , yes],\n",
       " ['The Sound of Silence',\n",
       "  Hello darkness , old friend      come talk      vision softly creeping      Left seeds sleeping      vision planted brain      remains      sound silence      restless dreams walked      Narrow streets cobblestone      ' Neath halo street lamp      turned collar cold damp      eyes stabbed flash neon light      split night      touched sound silence      naked light saw      thousand people , maybe      People talking speaking      People hearing listening      People writing songs voices share      dared      Disturb sound silence      \" Fools \" said , \" know      Silence like cancer grows      Hear words teach      arms reach \"      words like silent raindrops fell      echoed wells silence      people bowed prayed      neon god      sign flashed warning      words forming      sign said , \" words prophets      written subway walls      tenement halls      whispered sounds silence \"],\n",
       " ['Mad World',\n",
       "  familiar faces      Worn places , worn faces      Bright early daily races      Going , going      tears filling glasses      expression , expression      Hide head want drown sorrow      tomorrow , tomorrow      find kind funny      find kind sad      dreams dying best      find hard tell 'cause find hard      people run circles ,      Mad world      Mad world      Mad world      Mad world      Children waiting day feel good      Happy birthday , happy birthday      feel way child      Sit listen , sit listen      Went school nervous      knew , knew      Hello teacher tell lesson      Look right , look right      find kind funny      find kind sad      dreams dying best      find hard tell 'cause find hard      people run circles ,      Mad world      Mad world      Mad world      Mad world      find kind funny      find kind sad      dreams dying best      find hard tell 'cause find hard      people run circles ,      Mad world      Mad world      Halargian world      Mad world]]"
      ]
     },
     "execution_count": 5,
     "metadata": {},
     "output_type": "execute_result"
    }
   ],
   "source": [
    "# Spacy constructs sentence embedding by averaging the word embeddings, so songs\n",
    "# with very different meaning can seem to be similar if we do not remove \"meaningless words\"\n",
    "# called stop words. \n",
    "\n",
    "# Removing Stop Words\n",
    "no_stop_songs = [0]*len(songs)\n",
    "for i in range(len(songs)):\n",
    "    song = songs[i][1]\n",
    "    new_song = nlp(' '.join([str(t) for t in song if not t.is_stop]))\n",
    "    no_stop_songs[i] = [songs[i][0], new_song]\n",
    "\n",
    "no_stop_songs \n"
   ]
  },
  {
   "cell_type": "code",
   "execution_count": 6,
   "metadata": {},
   "outputs": [
    {
     "name": "stdout",
     "output_type": "stream",
     "text": [
      "Blue Skies <-> What a Wonderful World: 0.8094913587988022\n",
      "Blue Skies <-> The Sound of Silence: 0.7313186984127603\n",
      "Blue Skies <-> Mad World: 0.6475199501661411\n",
      "What a Wonderful World <-> The Sound of Silence: 0.8643514867169877\n",
      "What a Wonderful World <-> Mad World: 0.8754898631320087\n",
      "The Sound of Silence <-> Mad World: 0.775502116756936\n"
     ]
    }
   ],
   "source": [
    "for i in range(len(no_stop_songs)):\n",
    "    s1_name = no_stop_songs[i][0]\n",
    "    s1_song = no_stop_songs[i][1]\n",
    "    for j in range(i + 1, len(songs)):\n",
    "        s2_name = no_stop_songs[j][0]\n",
    "        s2_song = no_stop_songs[j][1]\n",
    "        print(f'{s1_name} <-> {s2_name}: {s1_song.similarity(s2_song)}')"
   ]
  },
  {
   "cell_type": "markdown",
   "metadata": {},
   "source": [
    "Next Milestone: Try to find the angle between two word vectors"
   ]
  },
  {
   "cell_type": "code",
   "execution_count": null,
   "metadata": {},
   "outputs": [],
   "source": []
  },
  {
   "cell_type": "markdown",
   "metadata": {},
   "source": [
    "Milestone: Try to get spacy to work with pandas "
   ]
  },
  {
   "cell_type": "code",
   "execution_count": 7,
   "metadata": {},
   "outputs": [
    {
     "data": {
      "text/html": [
       "<div>\n",
       "<style scoped>\n",
       "    .dataframe tbody tr th:only-of-type {\n",
       "        vertical-align: middle;\n",
       "    }\n",
       "\n",
       "    .dataframe tbody tr th {\n",
       "        vertical-align: top;\n",
       "    }\n",
       "\n",
       "    .dataframe thead th {\n",
       "        text-align: right;\n",
       "    }\n",
       "</style>\n",
       "<table border=\"1\" class=\"dataframe\">\n",
       "  <thead>\n",
       "    <tr style=\"text-align: right;\">\n",
       "      <th></th>\n",
       "      <th>Words</th>\n",
       "    </tr>\n",
       "  </thead>\n",
       "  <tbody>\n",
       "    <tr>\n",
       "      <th>0</th>\n",
       "      <td>How</td>\n",
       "    </tr>\n",
       "    <tr>\n",
       "      <th>1</th>\n",
       "      <td>do</td>\n",
       "    </tr>\n",
       "    <tr>\n",
       "      <th>2</th>\n",
       "      <td>I</td>\n",
       "    </tr>\n",
       "    <tr>\n",
       "      <th>3</th>\n",
       "      <td>get</td>\n",
       "    </tr>\n",
       "    <tr>\n",
       "      <th>4</th>\n",
       "      <td>pandas</td>\n",
       "    </tr>\n",
       "  </tbody>\n",
       "</table>\n",
       "</div>"
      ],
      "text/plain": [
       "    Words\n",
       "0     How\n",
       "1      do\n",
       "2       I\n",
       "3     get\n",
       "4  pandas"
      ]
     },
     "execution_count": 7,
     "metadata": {},
     "output_type": "execute_result"
    }
   ],
   "source": [
    "s = 'How do I get pandas to work nicely with spacy?' \n",
    "s_list = s.split() \n",
    "df = pd.DataFrame({'Words': s_list}) \n",
    "df.head() "
   ]
  },
  {
   "cell_type": "code",
   "execution_count": 8,
   "metadata": {},
   "outputs": [],
   "source": [
    "# ap\n",
    "df['docs'] = df['Words'].apply(nlp) "
   ]
  },
  {
   "cell_type": "code",
   "execution_count": 9,
   "metadata": {},
   "outputs": [
    {
     "data": {
      "text/html": [
       "<div>\n",
       "<style scoped>\n",
       "    .dataframe tbody tr th:only-of-type {\n",
       "        vertical-align: middle;\n",
       "    }\n",
       "\n",
       "    .dataframe tbody tr th {\n",
       "        vertical-align: top;\n",
       "    }\n",
       "\n",
       "    .dataframe thead th {\n",
       "        text-align: right;\n",
       "    }\n",
       "</style>\n",
       "<table border=\"1\" class=\"dataframe\">\n",
       "  <thead>\n",
       "    <tr style=\"text-align: right;\">\n",
       "      <th></th>\n",
       "      <th>Words</th>\n",
       "      <th>docs</th>\n",
       "    </tr>\n",
       "  </thead>\n",
       "  <tbody>\n",
       "    <tr>\n",
       "      <th>0</th>\n",
       "      <td>How</td>\n",
       "      <td>(How)</td>\n",
       "    </tr>\n",
       "    <tr>\n",
       "      <th>1</th>\n",
       "      <td>do</td>\n",
       "      <td>(do)</td>\n",
       "    </tr>\n",
       "    <tr>\n",
       "      <th>2</th>\n",
       "      <td>I</td>\n",
       "      <td>(I)</td>\n",
       "    </tr>\n",
       "    <tr>\n",
       "      <th>3</th>\n",
       "      <td>get</td>\n",
       "      <td>(get)</td>\n",
       "    </tr>\n",
       "    <tr>\n",
       "      <th>4</th>\n",
       "      <td>pandas</td>\n",
       "      <td>(pandas)</td>\n",
       "    </tr>\n",
       "  </tbody>\n",
       "</table>\n",
       "</div>"
      ],
      "text/plain": [
       "    Words      docs\n",
       "0     How     (How)\n",
       "1      do      (do)\n",
       "2       I       (I)\n",
       "3     get     (get)\n",
       "4  pandas  (pandas)"
      ]
     },
     "execution_count": 9,
     "metadata": {},
     "output_type": "execute_result"
    }
   ],
   "source": [
    "df.head()"
   ]
  },
  {
   "cell_type": "code",
   "execution_count": null,
   "metadata": {},
   "outputs": [],
   "source": []
  }
 ],
 "metadata": {
  "kernelspec": {
   "display_name": "npl",
   "language": "python",
   "name": "python3"
  },
  "language_info": {
   "codemirror_mode": {
    "name": "ipython",
    "version": 3
   },
   "file_extension": ".py",
   "mimetype": "text/x-python",
   "name": "python",
   "nbconvert_exporter": "python",
   "pygments_lexer": "ipython3",
   "version": "3.9.18"
  }
 },
 "nbformat": 4,
 "nbformat_minor": 2
}
