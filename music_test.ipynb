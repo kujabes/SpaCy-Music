{
 "cells": [
  {
   "cell_type": "code",
   "execution_count": 1,
   "metadata": {},
   "outputs": [],
   "source": [
    "import spacy\n",
    "import numpy as np\n",
    "import pandas as pd"
   ]
  },
  {
   "cell_type": "code",
   "execution_count": 2,
   "metadata": {},
   "outputs": [
    {
     "name": "stderr",
     "output_type": "stream",
     "text": [
      "/Users/zyankarim/miniconda3/envs/npl/lib/python3.9/site-packages/tqdm/auto.py:21: TqdmWarning: IProgress not found. Please update jupyter and ipywidgets. See https://ipywidgets.readthedocs.io/en/stable/user_install.html\n",
      "  from .autonotebook import tqdm as notebook_tqdm\n"
     ]
    }
   ],
   "source": [
    "# load in medium english model\n",
    "nlp = spacy.load('en_core_web_md')"
   ]
  },
  {
   "cell_type": "code",
   "execution_count": 3,
   "metadata": {},
   "outputs": [],
   "source": [
    "# load in two \"happy\" songs and two \"sad\" songs\n",
    "\n",
    "# Blue Skies by Frank Sinatra\n",
    "blue_skies = nlp(\n",
    "    \"Blue skies, smiling at me \\\n",
    "    Nothing but blue skies do I see \\\n",
    "    Blue days, all of them gone \\\n",
    "    Nothing but blue skies from now on \\\n",
    "    Never saw the sun shining so bright \\\n",
    "    Never saw things looking so right \\\n",
    "    Noticing the days hurrying by \\\n",
    "    When you're in love, my how they fly like \\\n",
    "    Bluebirds singing a song \\\n",
    "    Nothing but bluebirds all day long \\\n",
    "    Blue skies, smiling at me \\\n",
    "    Nothing but blue skies do I see \\\n",
    "    Blue days, all of them gone \\\n",
    "    Nothing but blue skies from now on\"\n",
    ")\n",
    "\n",
    "# What a Wonderful World by Louis Armstrong\n",
    "wond_world = nlp(\n",
    "    \"I see trees of green \\\n",
    "    Red roses too \\\n",
    "    I see them bloom \\\n",
    "    For me and you \\\n",
    "    And I think to myself \\\n",
    "    What a wonderful world \\\n",
    "    I see skies of blue \\\n",
    "    And clouds of white \\\n",
    "    The bright blessed day \\\n",
    "    The dark sacred night \\\n",
    "    And I think to myself \\\n",
    "    What a wonderful world \\\n",
    "    The colors of the rainbow \\\n",
    "    So pretty in the sky \\\n",
    "    Are also on the faces \\\n",
    "    Of people going by \\\n",
    "    I see friends shaking hands \\\n",
    "    Saying, \\\"How do you do?\\\" \\\n",
    "    They\\'re really saying \\\n",
    "    I love you \\\n",
    "    I hear babies cry \\\n",
    "    I watch them grow \\\n",
    "    They\\'ll learn much more \\\n",
    "    Than I\\'ll ever know \\\n",
    "    And I think to myself \\\n",
    "    What a wonderful world \\\n",
    "    Yes, I think to myself \\\n",
    "    What a wonderful world \\\n",
    "    Ooh, yes\"\n",
    ")\n",
    "\n",
    "# The Sound of Silence by Simon and Garfunkel\n",
    "silence = nlp(\n",
    "    \"Hello darkness, my old friend \\\n",
    "    I\\'ve come to talk with you again \\\n",
    "    Because a vision softly creeping \\\n",
    "    Left its seeds while I was sleeping \\\n",
    "    And the vision that was planted in my brain \\\n",
    "    Still remains \\\n",
    "    Within the sound of silence \\\n",
    "    In restless dreams I walked alone \\\n",
    "    Narrow streets of cobblestone \\\n",
    "    \\'Neath the halo of a street lamp \\\n",
    "    I turned my collar to the cold and damp \\\n",
    "    When my eyes were stabbed by the flash of a neon light \\\n",
    "    That split the night \\\n",
    "    And touched the sound of silence \\\n",
    "    And in the naked light I saw \\\n",
    "    Ten thousand people, maybe more \\\n",
    "    People talking without speaking \\\n",
    "    People hearing without listening \\\n",
    "    People writing songs that voices never share \\\n",
    "    No one dared \\\n",
    "    Disturb the sound of silence \\\n",
    "    \\\"Fools\\\" said I, \\\"You do not know \\\n",
    "    Silence like a cancer grows \\\n",
    "    Hear my words that I might teach you \\\n",
    "    Take my arms that I might reach you\\\" \\\n",
    "    But my words like silent raindrops fell \\\n",
    "    And echoed in the wells of silence \\\n",
    "    And the people bowed and prayed \\\n",
    "    To the neon god they made \\\n",
    "    And the sign flashed out its warning \\\n",
    "    In the words that it was forming \\\n",
    "    And the sign said, \\\"The words of the prophets \\\n",
    "    Are written on the subway walls \\\n",
    "    And tenement halls \\\n",
    "    And whispered in the sounds of silence\\\" \"\n",
    ")\n",
    "\n",
    "# Mad World by Tears for Fears\n",
    "mad_world = nlp(\n",
    "    \"All around me are familiar faces \\\n",
    "    Worn out places, worn out faces \\\n",
    "    Bright and early for their daily races \\\n",
    "    Going nowhere, going nowhere \\\n",
    "    Their tears are filling up their glasses \\\n",
    "    No expression, no expression \\\n",
    "    Hide my head I want to drown my sorrow \\\n",
    "    No tomorrow, no tomorrow \\\n",
    "    And I find it kind of funny \\\n",
    "    I find it kind of sad \\\n",
    "    The dreams in which I\\'m dying are the best I\\'ve ever had \\\n",
    "    I find it hard to tell you \\'cause I find it hard to take \\\n",
    "    When people run in circles it\\'s a very, very \\\n",
    "    Mad world \\\n",
    "    Mad world \\\n",
    "    Mad world \\\n",
    "    Mad world \\\n",
    "    Children waiting for the day they feel good \\\n",
    "    Happy birthday, happy birthday \\\n",
    "    Made to feel the way that every child should \\\n",
    "    Sit and listen, sit and listen \\\n",
    "    Went to school and I was very nervous \\\n",
    "    No one knew me, no one knew me \\\n",
    "    Hello teacher tell me what's my lesson \\\n",
    "    Look right through me, look right through me \\\n",
    "    And I find it kind of funny \\\n",
    "    I find it kind of sad \\\n",
    "    The dreams in which I'm dying are the best I've ever had \\\n",
    "    I find it hard to tell you 'cause I find it hard to take \\\n",
    "    When people run in circles it\\'s a very, very \\\n",
    "    Mad world \\\n",
    "    Mad world \\\n",
    "    Mad world \\\n",
    "    Mad world \\\n",
    "    And I find it kind of funny \\\n",
    "    I find it kind of sad \\\n",
    "    The dreams in which I\\'m dying are the best I\\'ve ever had \\\n",
    "    I find it hard to tell you \\'cause I find it hard to take \\\n",
    "    When people run in circles it\\'s a very, very \\\n",
    "    Mad world \\\n",
    "    Mad world \\\n",
    "    Halargian world \\\n",
    "    Mad world\"\n",
    ")"
   ]
  },
  {
   "cell_type": "code",
   "execution_count": 11,
   "metadata": {},
   "outputs": [
    {
     "data": {
      "text/plain": [
       "300"
      ]
     },
     "execution_count": 11,
     "metadata": {},
     "output_type": "execute_result"
    }
   ],
   "source": [
    "mad_world.vector"
   ]
  },
  {
   "cell_type": "code",
   "execution_count": 4,
   "metadata": {},
   "outputs": [
    {
     "name": "stdout",
     "output_type": "stream",
     "text": [
      "Blue Skies <-> What a Wonderful World: 0.8942985693398715\n",
      "Blue Skies <-> The Sound of Silence: 0.879295268353476\n",
      "Blue Skies <-> Mad World: 0.8973674854927597\n",
      "What a Wonderful World <-> The Sound of Silence: 0.8683464537820359\n",
      "What a Wonderful World <-> Mad World: 0.9570395874858139\n",
      "The Sound of Silence <-> Mad World: 0.8872459668576334\n"
     ]
    }
   ],
   "source": [
    "songs = [\n",
    "    [\"Blue Skies\", blue_skies],\n",
    "    [\"What a Wonderful World\", wond_world],\n",
    "    [\"The Sound of Silence\", silence],\n",
    "    [\"Mad World\", mad_world]\n",
    "]\n",
    "\n",
    "# Raw comparison without any adjustments\n",
    "for i in range(len(songs)):\n",
    "    s1_name = songs[i][0]\n",
    "    s1_song = songs[i][1]\n",
    "    for j in range(i + 1, len(songs)):\n",
    "        s2_name = songs[j][0]\n",
    "        s2_song = songs[j][1]\n",
    "        print(f'{s1_name} <-> {s2_name}: {s1_song.similarity(s2_song)}')"
   ]
  },
  {
   "cell_type": "code",
   "execution_count": 5,
   "metadata": {},
   "outputs": [
    {
     "data": {
      "text/plain": [
       "[['Blue Skies',\n",
       "  Blue skies , smiling      blue skies      Blue days , gone      blue skies      saw sun shining bright      saw things looking right      Noticing days hurrying      love , fly like      Bluebirds singing song      bluebirds day long      Blue skies , smiling      blue skies      Blue days , gone      blue skies],\n",
       " ['What a Wonderful World',\n",
       "  trees green      Red roses      bloom           think      wonderful world      skies blue      clouds white      bright blessed day      dark sacred night      think      wonderful world      colors rainbow      pretty sky      faces      people going      friends shaking hands      Saying , \" ? \"      saying      love      hear babies cry      watch grow      learn      know      think      wonderful world      Yes , think      wonderful world      Ooh , yes],\n",
       " ['The Sound of Silence',\n",
       "  Hello darkness , old friend      come talk      vision softly creeping      Left seeds sleeping      vision planted brain      remains      sound silence      restless dreams walked      Narrow streets cobblestone      ' Neath halo street lamp      turned collar cold damp      eyes stabbed flash neon light      split night      touched sound silence      naked light saw      thousand people , maybe      People talking speaking      People hearing listening      People writing songs voices share      dared      Disturb sound silence      \" Fools \" said , \" know      Silence like cancer grows      Hear words teach      arms reach \"      words like silent raindrops fell      echoed wells silence      people bowed prayed      neon god      sign flashed warning      words forming      sign said , \" words prophets      written subway walls      tenement halls      whispered sounds silence \"],\n",
       " ['Mad World',\n",
       "  familiar faces      Worn places , worn faces      Bright early daily races      Going , going      tears filling glasses      expression , expression      Hide head want drown sorrow      tomorrow , tomorrow      find kind funny      find kind sad      dreams dying best      find hard tell 'cause find hard      people run circles ,      Mad world      Mad world      Mad world      Mad world      Children waiting day feel good      Happy birthday , happy birthday      feel way child      Sit listen , sit listen      Went school nervous      knew , knew      Hello teacher tell lesson      Look right , look right      find kind funny      find kind sad      dreams dying best      find hard tell 'cause find hard      people run circles ,      Mad world      Mad world      Mad world      Mad world      find kind funny      find kind sad      dreams dying best      find hard tell 'cause find hard      people run circles ,      Mad world      Mad world      Halargian world      Mad world]]"
      ]
     },
     "execution_count": 5,
     "metadata": {},
     "output_type": "execute_result"
    }
   ],
   "source": [
    "# Spacy constructs sentence embedding by averaging the word embeddings, so songs\n",
    "# with very different meaning can seem to be similar if we do not remove \"meaningless words\"\n",
    "# called stop words. \n",
    "\n",
    "# Removing Stop Words\n",
    "no_stop_songs = [0]*len(songs)\n",
    "for i in range(len(songs)):\n",
    "    song = songs[i][1]\n",
    "    new_song = nlp(' '.join([str(t) for t in song if not t.is_stop]))\n",
    "    no_stop_songs[i] = [songs[i][0], new_song]\n",
    "\n",
    "no_stop_songs\n"
   ]
  },
  {
   "cell_type": "code",
   "execution_count": 6,
   "metadata": {},
   "outputs": [
    {
     "name": "stdout",
     "output_type": "stream",
     "text": [
      "Blue Skies <-> What a Wonderful World: 0.8094913587988022\n",
      "Blue Skies <-> The Sound of Silence: 0.7313186984127603\n",
      "Blue Skies <-> Mad World: 0.6475199501661411\n",
      "What a Wonderful World <-> The Sound of Silence: 0.8643514867169877\n",
      "What a Wonderful World <-> Mad World: 0.8754898631320087\n",
      "The Sound of Silence <-> Mad World: 0.775502116756936\n"
     ]
    }
   ],
   "source": [
    "for i in range(len(no_stop_songs)):\n",
    "    s1_name = no_stop_songs[i][0]\n",
    "    s1_song = no_stop_songs[i][1]\n",
    "    for j in range(i + 1, len(songs)):\n",
    "        s2_name = no_stop_songs[j][0]\n",
    "        s2_song = no_stop_songs[j][1]\n",
    "        print(f'{s1_name} <-> {s2_name}: {s1_song.similarity(s2_song)}')"
   ]
  },
  {
   "cell_type": "markdown",
   "metadata": {},
   "source": [
    "Next Milestone: Try to find the angle between two word vectors"
   ]
  },
  {
   "cell_type": "code",
   "execution_count": null,
   "metadata": {},
   "outputs": [],
   "source": []
  },
  {
   "cell_type": "markdown",
   "metadata": {},
   "source": [
    "Milestone: Try to get spacy to work with pandas "
   ]
  },
  {
   "cell_type": "code",
   "execution_count": 7,
   "metadata": {},
   "outputs": [
    {
     "data": {
      "text/html": [
       "<div>\n",
       "<style scoped>\n",
       "    .dataframe tbody tr th:only-of-type {\n",
       "        vertical-align: middle;\n",
       "    }\n",
       "\n",
       "    .dataframe tbody tr th {\n",
       "        vertical-align: top;\n",
       "    }\n",
       "\n",
       "    .dataframe thead th {\n",
       "        text-align: right;\n",
       "    }\n",
       "</style>\n",
       "<table border=\"1\" class=\"dataframe\">\n",
       "  <thead>\n",
       "    <tr style=\"text-align: right;\">\n",
       "      <th></th>\n",
       "      <th>Words</th>\n",
       "    </tr>\n",
       "  </thead>\n",
       "  <tbody>\n",
       "    <tr>\n",
       "      <th>0</th>\n",
       "      <td>How</td>\n",
       "    </tr>\n",
       "    <tr>\n",
       "      <th>1</th>\n",
       "      <td>do</td>\n",
       "    </tr>\n",
       "    <tr>\n",
       "      <th>2</th>\n",
       "      <td>I</td>\n",
       "    </tr>\n",
       "    <tr>\n",
       "      <th>3</th>\n",
       "      <td>get</td>\n",
       "    </tr>\n",
       "    <tr>\n",
       "      <th>4</th>\n",
       "      <td>pandas</td>\n",
       "    </tr>\n",
       "  </tbody>\n",
       "</table>\n",
       "</div>"
      ],
      "text/plain": [
       "    Words\n",
       "0     How\n",
       "1      do\n",
       "2       I\n",
       "3     get\n",
       "4  pandas"
      ]
     },
     "execution_count": 7,
     "metadata": {},
     "output_type": "execute_result"
    }
   ],
   "source": [
    "s = 'How do I get pandas to work nicely with spacy?' \n",
    "s_list = s.split() \n",
    "df = pd.DataFrame({'Words': s_list}) \n",
    "df.head() "
   ]
  },
  {
   "cell_type": "code",
   "execution_count": 8,
   "metadata": {},
   "outputs": [],
   "source": [
    "# ap\n",
    "df['docs'] = df['Words'].apply(nlp)"
   ]
  },
  {
   "cell_type": "code",
   "execution_count": 9,
   "metadata": {},
   "outputs": [
    {
     "data": {
      "text/html": [
       "<div>\n",
       "<style scoped>\n",
       "    .dataframe tbody tr th:only-of-type {\n",
       "        vertical-align: middle;\n",
       "    }\n",
       "\n",
       "    .dataframe tbody tr th {\n",
       "        vertical-align: top;\n",
       "    }\n",
       "\n",
       "    .dataframe thead th {\n",
       "        text-align: right;\n",
       "    }\n",
       "</style>\n",
       "<table border=\"1\" class=\"dataframe\">\n",
       "  <thead>\n",
       "    <tr style=\"text-align: right;\">\n",
       "      <th></th>\n",
       "      <th>Words</th>\n",
       "      <th>docs</th>\n",
       "    </tr>\n",
       "  </thead>\n",
       "  <tbody>\n",
       "    <tr>\n",
       "      <th>0</th>\n",
       "      <td>How</td>\n",
       "      <td>(How)</td>\n",
       "    </tr>\n",
       "    <tr>\n",
       "      <th>1</th>\n",
       "      <td>do</td>\n",
       "      <td>(do)</td>\n",
       "    </tr>\n",
       "    <tr>\n",
       "      <th>2</th>\n",
       "      <td>I</td>\n",
       "      <td>(I)</td>\n",
       "    </tr>\n",
       "    <tr>\n",
       "      <th>3</th>\n",
       "      <td>get</td>\n",
       "      <td>(get)</td>\n",
       "    </tr>\n",
       "    <tr>\n",
       "      <th>4</th>\n",
       "      <td>pandas</td>\n",
       "      <td>(pandas)</td>\n",
       "    </tr>\n",
       "  </tbody>\n",
       "</table>\n",
       "</div>"
      ],
      "text/plain": [
       "    Words      docs\n",
       "0     How     (How)\n",
       "1      do      (do)\n",
       "2       I       (I)\n",
       "3     get     (get)\n",
       "4  pandas  (pandas)"
      ]
     },
     "execution_count": 9,
     "metadata": {},
     "output_type": "execute_result"
    }
   ],
   "source": [
    "df.head()"
   ]
  },
  {
   "cell_type": "code",
   "execution_count": null,
   "metadata": {},
   "outputs": [],
   "source": []
  }
 ],
 "metadata": {
  "kernelspec": {
   "display_name": "npl",
   "language": "python",
   "name": "python3"
  },
  "language_info": {
   "codemirror_mode": {
    "name": "ipython",
    "version": 3
   },
   "file_extension": ".py",
   "mimetype": "text/x-python",
   "name": "python",
   "nbconvert_exporter": "python",
   "pygments_lexer": "ipython3",
   "version": "3.9.18"
  }
 },
 "nbformat": 4,
 "nbformat_minor": 2
}
