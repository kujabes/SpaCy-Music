{
 "cells": [
  {
   "cell_type": "code",
   "execution_count": 63,
   "metadata": {},
   "outputs": [],
   "source": [
    "# loading small english model\n",
    "import spacy\n",
    "nlp = spacy.load('en_core_web_md')"
   ]
  },
  {
   "cell_type": "code",
   "execution_count": 64,
   "metadata": {},
   "outputs": [
    {
     "data": {
      "text/plain": [
       "'3.7.2'"
      ]
     },
     "execution_count": 64,
     "metadata": {},
     "output_type": "execute_result"
    }
   ],
   "source": [
    "# Version\n",
    "spacy.__version__"
   ]
  },
  {
   "cell_type": "code",
   "execution_count": 65,
   "metadata": {},
   "outputs": [
    {
     "data": {
      "text/plain": [
       "[('tok2vec', <spacy.pipeline.tok2vec.Tok2Vec at 0x17b71b940>),\n",
       " ('tagger', <spacy.pipeline.tagger.Tagger at 0x17b71be20>),\n",
       " ('parser', <spacy.pipeline.dep_parser.DependencyParser at 0x15d692200>),\n",
       " ('senter', <spacy.pipeline.senter.SentenceRecognizer at 0x17b71b2e0>),\n",
       " ('attribute_ruler',\n",
       "  <spacy.pipeline.attributeruler.AttributeRuler at 0x15e09d8c0>),\n",
       " ('lemmatizer', <spacy.lang.en.lemmatizer.EnglishLemmatizer at 0x15e0ab640>),\n",
       " ('ner', <spacy.pipeline.ner.EntityRecognizer at 0x15d6925f0>)]"
      ]
     },
     "execution_count": 65,
     "metadata": {},
     "output_type": "execute_result"
    }
   ],
   "source": [
    "# Check components in the nlp pipeline\n",
    "nlp.components"
   ]
  },
  {
   "cell_type": "code",
   "execution_count": 66,
   "metadata": {},
   "outputs": [
    {
     "data": {
      "text/plain": [
       "[('tok2vec', <spacy.pipeline.tok2vec.Tok2Vec at 0x17b71b940>),\n",
       " ('tagger', <spacy.pipeline.tagger.Tagger at 0x17b71be20>),\n",
       " ('parser', <spacy.pipeline.dep_parser.DependencyParser at 0x15d692200>),\n",
       " ('attribute_ruler',\n",
       "  <spacy.pipeline.attributeruler.AttributeRuler at 0x15e09d8c0>),\n",
       " ('lemmatizer', <spacy.lang.en.lemmatizer.EnglishLemmatizer at 0x15e0ab640>),\n",
       " ('ner', <spacy.pipeline.ner.EntityRecognizer at 0x15d6925f0>)]"
      ]
     },
     "execution_count": 66,
     "metadata": {},
     "output_type": "execute_result"
    }
   ],
   "source": [
    "nlp.pipeline"
   ]
  },
  {
   "cell_type": "code",
   "execution_count": 67,
   "metadata": {},
   "outputs": [
    {
     "data": {
      "text/plain": [
       "['tok2vec',\n",
       " 'tagger',\n",
       " 'parser',\n",
       " 'senter',\n",
       " 'attribute_ruler',\n",
       " 'lemmatizer',\n",
       " 'ner']"
      ]
     },
     "execution_count": 67,
     "metadata": {},
     "output_type": "execute_result"
    }
   ],
   "source": [
    "# Get component names\n",
    "nlp.component_names"
   ]
  },
  {
   "cell_type": "code",
   "execution_count": 68,
   "metadata": {},
   "outputs": [],
   "source": [
    "# Using SpaCy Textblob: Sentiment Analysis\n",
    "from spacytextblob.spacytextblob import SpacyTextBlob"
   ]
  },
  {
   "cell_type": "code",
   "execution_count": 69,
   "metadata": {},
   "outputs": [
    {
     "data": {
      "text/plain": [
       "<spacytextblob.spacytextblob.SpacyTextBlob at 0x29bc69cd0>"
      ]
     },
     "execution_count": 69,
     "metadata": {},
     "output_type": "execute_result"
    }
   ],
   "source": [
    "# Adding sentiment pipe to nlp pipeline\n",
    "nlp.add_pipe(\"spacytextblob\")"
   ]
  },
  {
   "cell_type": "code",
   "execution_count": 70,
   "metadata": {},
   "outputs": [
    {
     "data": {
      "text/plain": [
       "[('tok2vec', <spacy.pipeline.tok2vec.Tok2Vec at 0x17b71b940>),\n",
       " ('tagger', <spacy.pipeline.tagger.Tagger at 0x17b71be20>),\n",
       " ('parser', <spacy.pipeline.dep_parser.DependencyParser at 0x15d692200>),\n",
       " ('senter', <spacy.pipeline.senter.SentenceRecognizer at 0x17b71b2e0>),\n",
       " ('attribute_ruler',\n",
       "  <spacy.pipeline.attributeruler.AttributeRuler at 0x15e09d8c0>),\n",
       " ('lemmatizer', <spacy.lang.en.lemmatizer.EnglishLemmatizer at 0x15e0ab640>),\n",
       " ('ner', <spacy.pipeline.ner.EntityRecognizer at 0x15d6925f0>),\n",
       " ('spacytextblob', <spacytextblob.spacytextblob.SpacyTextBlob at 0x29bc69cd0>)]"
      ]
     },
     "execution_count": 70,
     "metadata": {},
     "output_type": "execute_result"
    }
   ],
   "source": [
    "# Recheck our pipeline\n",
    "nlp.components"
   ]
  },
  {
   "cell_type": "code",
   "execution_count": 71,
   "metadata": {},
   "outputs": [],
   "source": [
    "sample_text = \"I had a really horrible day. It was the worst day ever! But every now and then I have a really good day that makes me happy.\""
   ]
  },
  {
   "cell_type": "code",
   "execution_count": 72,
   "metadata": {},
   "outputs": [],
   "source": [
    "doc = nlp(sample_text)"
   ]
  },
  {
   "cell_type": "code",
   "execution_count": 73,
   "metadata": {},
   "outputs": [
    {
     "name": "stdout",
     "output_type": "stream",
     "text": [
      "I had a really horrible day. It was the worst day ever! But every now and then I have a really good day that makes me happy.\n"
     ]
    }
   ],
   "source": [
    "print(doc)"
   ]
  },
  {
   "cell_type": "code",
   "execution_count": 74,
   "metadata": {},
   "outputs": [
    {
     "name": "stdout",
     "output_type": "stream",
     "text": [
      "-0.125\n"
     ]
    }
   ],
   "source": [
    "# Check Sentiment\n",
    "print(doc._.polarity)"
   ]
  },
  {
   "cell_type": "code",
   "execution_count": 75,
   "metadata": {},
   "outputs": [
    {
     "data": {
      "text/plain": [
       "0.9"
      ]
     },
     "execution_count": 75,
     "metadata": {},
     "output_type": "execute_result"
    }
   ],
   "source": [
    "# Subjectivity\n",
    "doc._.subjectivity"
   ]
  },
  {
   "cell_type": "code",
   "execution_count": 76,
   "metadata": {},
   "outputs": [
    {
     "data": {
      "text/plain": [
       "[(['really', 'horrible'], -1.0, 1.0, None),\n",
       " (['worst', '!'], -1.0, 1.0, None),\n",
       " (['really', 'good'], 0.7, 0.6000000000000001, None),\n",
       " (['happy'], 0.8, 1.0, None)]"
      ]
     },
     "execution_count": 76,
     "metadata": {},
     "output_type": "execute_result"
    }
   ],
   "source": [
    "# Check Assessment: list for each token\n",
    "doc._.assessments"
   ]
  },
  {
   "cell_type": "code",
   "execution_count": 77,
   "metadata": {},
   "outputs": [],
   "source": [
    "# Testing polarity determination within spacy\n",
    "best_text = \"This was the best song in the album!\"\n",
    "not_the_best_text = \"This was not the best song in the album.\"\n",
    "text = \"This was a song in the album.\"\n",
    "not_the_worst_text = \"This was not the worst song in the album.\"\n",
    "worst_text = \"This was the worst song in the album!\"\n",
    "\n",
    "# applying nlp pipeline to text\n",
    "best = nlp(best_text)\n",
    "not_the_best = nlp(not_the_best_text)\n",
    "neutral = nlp(text)\n",
    "not_the_worst = nlp(not_the_worst_text)\n",
    "worst = nlp(worst_text)"
   ]
  },
  {
   "cell_type": "code",
   "execution_count": 78,
   "metadata": {},
   "outputs": [
    {
     "name": "stdout",
     "output_type": "stream",
     "text": [
      "1.0\n",
      "1.0\n",
      "0.0\n",
      "-1.0\n",
      "-1.0\n"
     ]
    }
   ],
   "source": [
    "print(best._.polarity)\n",
    "print(not_the_best._.polarity)\n",
    "print(neutral._.polarity)\n",
    "print(not_the_worst._.polarity)\n",
    "print(worst._.polarity)"
   ]
  },
  {
   "cell_type": "code",
   "execution_count": 79,
   "metadata": {},
   "outputs": [],
   "source": [
    "# spacy seems to have trouble with determining the degree of polarity\n",
    "# Note to self: Make a pipe to remove stop words when applied to text"
   ]
  },
  {
   "cell_type": "code",
   "execution_count": 80,
   "metadata": {},
   "outputs": [
    {
     "name": "stdout",
     "output_type": "stream",
     "text": [
      "0.3\n",
      "0.3\n",
      "0.0\n",
      "1.0\n",
      "1.0\n"
     ]
    }
   ],
   "source": [
    "print(best._.subjectivity)\n",
    "print(not_the_best._.subjectivity)\n",
    "print(neutral._.subjectivity)\n",
    "print(not_the_worst._.subjectivity)\n",
    "print(worst._.subjectivity)"
   ]
  },
  {
   "cell_type": "code",
   "execution_count": 81,
   "metadata": {},
   "outputs": [],
   "source": [
    "text = \"John loves eating apples when he works at Apple\" # Note: loves and love behave differently, implement lemmatize?\n",
    "docx = nlp(text)"
   ]
  },
  {
   "cell_type": "code",
   "execution_count": 82,
   "metadata": {},
   "outputs": [
    {
     "data": {
      "text/plain": [
       "0.0"
      ]
     },
     "execution_count": 82,
     "metadata": {},
     "output_type": "execute_result"
    }
   ],
   "source": [
    "docx._.polarity"
   ]
  },
  {
   "cell_type": "code",
   "execution_count": 83,
   "metadata": {},
   "outputs": [
    {
     "data": {
      "text/plain": [
       "0.0"
      ]
     },
     "execution_count": 83,
     "metadata": {},
     "output_type": "execute_result"
    }
   ],
   "source": [
    "docx._.subjectivity"
   ]
  },
  {
   "cell_type": "code",
   "execution_count": 84,
   "metadata": {},
   "outputs": [
    {
     "data": {
      "text/plain": [
       "[]"
      ]
     },
     "execution_count": 84,
     "metadata": {},
     "output_type": "execute_result"
    }
   ],
   "source": [
    "docx._.assessments"
   ]
  },
  {
   "cell_type": "code",
   "execution_count": 85,
   "metadata": {},
   "outputs": [],
   "source": [
    "# load in two \"happy\" songs and two \"sad\" songs\n",
    "\n",
    "# Blue Skies by Frank Sinatra\n",
    "blue_skies = nlp(\n",
    "    \"Blue skies, smiling at me \\\n",
    "    Nothing but blue skies do I see \\\n",
    "    Blue days, all of them gone \\\n",
    "    Nothing but blue skies from now on \\\n",
    "    Never saw the sun shining so bright \\\n",
    "    Never saw things looking so right \\\n",
    "    Noticing the days hurrying by \\\n",
    "    When you're in love, my how they fly like \\\n",
    "    Bluebirds singing a song \\\n",
    "    Nothing but bluebirds all day long \\\n",
    "    Blue skies, smiling at me \\\n",
    "    Nothing but blue skies do I see \\\n",
    "    Blue days, all of them gone \\\n",
    "    Nothing but blue skies from now on\"\n",
    ")\n",
    "\n",
    "# What a Wonderful World by Louis Armstrong\n",
    "wond_world = nlp(\n",
    "    \"I see trees of green \\\n",
    "    Red roses too \\\n",
    "    I see them bloom \\\n",
    "    For me and you \\\n",
    "    And I think to myself \\\n",
    "    What a wonderful world \\\n",
    "    I see skies of blue \\\n",
    "    And clouds of white \\\n",
    "    The bright blessed day \\\n",
    "    The dark sacred night \\\n",
    "    And I think to myself \\\n",
    "    What a wonderful world \\\n",
    "    The colors of the rainbow \\\n",
    "    So pretty in the sky \\\n",
    "    Are also on the faces \\\n",
    "    Of people going by \\\n",
    "    I see friends shaking hands \\\n",
    "    Saying, \\\"How do you do?\\\" \\\n",
    "    They\\'re really saying \\\n",
    "    I love you \\\n",
    "    I hear babies cry \\\n",
    "    I watch them grow \\\n",
    "    They\\'ll learn much more \\\n",
    "    Than I\\'ll ever know \\\n",
    "    And I think to myself \\\n",
    "    What a wonderful world \\\n",
    "    Yes, I think to myself \\\n",
    "    What a wonderful world \\\n",
    "    Ooh, yes\"\n",
    ")\n",
    "\n",
    "# The Sound of Silence by Simon and Garfunkel\n",
    "silence = nlp(\n",
    "    \"Hello darkness, my old friend \\\n",
    "    I\\'ve come to talk with you again \\\n",
    "    Because a vision softly creeping \\\n",
    "    Left its seeds while I was sleeping \\\n",
    "    And the vision that was planted in my brain \\\n",
    "    Still remains \\\n",
    "    Within the sound of silence \\\n",
    "    In restless dreams I walked alone \\\n",
    "    Narrow streets of cobblestone \\\n",
    "    \\'Neath the halo of a street lamp \\\n",
    "    I turned my collar to the cold and damp \\\n",
    "    When my eyes were stabbed by the flash of a neon light \\\n",
    "    That split the night \\\n",
    "    And touched the sound of silence \\\n",
    "    And in the naked light I saw \\\n",
    "    Ten thousand people, maybe more \\\n",
    "    People talking without speaking \\\n",
    "    People hearing without listening \\\n",
    "    People writing songs that voices never share \\\n",
    "    No one dared \\\n",
    "    Disturb the sound of silence \\\n",
    "    \\\"Fools\\\" said I, \\\"You do not know \\\n",
    "    Silence like a cancer grows \\\n",
    "    Hear my words that I might teach you \\\n",
    "    Take my arms that I might reach you\\\" \\\n",
    "    But my words like silent raindrops fell \\\n",
    "    And echoed in the wells of silence \\\n",
    "    And the people bowed and prayed \\\n",
    "    To the neon god they made \\\n",
    "    And the sign flashed out its warning \\\n",
    "    In the words that it was forming \\\n",
    "    And the sign said, \\\"The words of the prophets \\\n",
    "    Are written on the subway walls \\\n",
    "    And tenement halls \\\n",
    "    And whispered in the sounds of silence\\\" \"\n",
    ")\n",
    "\n",
    "# Mad World by Tears for Fears\n",
    "mad_world = nlp(\n",
    "    \"All around me are familiar faces \\\n",
    "    Worn out places, worn out faces \\\n",
    "    Bright and early for their daily races \\\n",
    "    Going nowhere, going nowhere \\\n",
    "    Their tears are filling up their glasses \\\n",
    "    No expression, no expression \\\n",
    "    Hide my head I want to drown my sorrow \\\n",
    "    No tomorrow, no tomorrow \\\n",
    "    And I find it kind of funny \\\n",
    "    I find it kind of sad \\\n",
    "    The dreams in which I\\'m dying are the best I\\'ve ever had \\\n",
    "    I find it hard to tell you \\'cause I find it hard to take \\\n",
    "    When people run in circles it\\'s a very, very \\\n",
    "    Mad world \\\n",
    "    Mad world \\\n",
    "    Mad world \\\n",
    "    Mad world \\\n",
    "    Children waiting for the day they feel good \\\n",
    "    Happy birthday, happy birthday \\\n",
    "    Made to feel the way that every child should \\\n",
    "    Sit and listen, sit and listen \\\n",
    "    Went to school and I was very nervous \\\n",
    "    No one knew me, no one knew me \\\n",
    "    Hello teacher tell me what's my lesson \\\n",
    "    Look right through me, look right through me \\\n",
    "    And I find it kind of funny \\\n",
    "    I find it kind of sad \\\n",
    "    The dreams in which I'm dying are the best I've ever had \\\n",
    "    I find it hard to tell you 'cause I find it hard to take \\\n",
    "    When people run in circles it\\'s a very, very \\\n",
    "    Mad world \\\n",
    "    Mad world \\\n",
    "    Mad world \\\n",
    "    Mad world \\\n",
    "    And I find it kind of funny \\\n",
    "    I find it kind of sad \\\n",
    "    The dreams in which I\\'m dying are the best I\\'ve ever had \\\n",
    "    I find it hard to tell you \\'cause I find it hard to take \\\n",
    "    When people run in circles it\\'s a very, very \\\n",
    "    Mad world \\\n",
    "    Mad world \\\n",
    "    Halargian world \\\n",
    "    Mad world\"\n",
    ")"
   ]
  },
  {
   "cell_type": "code",
   "execution_count": 86,
   "metadata": {},
   "outputs": [
    {
     "name": "stdout",
     "output_type": "stream",
     "text": [
      "0.9570395874858139\n"
     ]
    }
   ],
   "source": [
    "print(mad_world.similarity(wond_world))"
   ]
  },
  {
   "cell_type": "code",
   "execution_count": 87,
   "metadata": {},
   "outputs": [
    {
     "name": "stdout",
     "output_type": "stream",
     "text": [
      "0.02164115646258506\n",
      "0.7647959183673472\n"
     ]
    }
   ],
   "source": [
    "print(mad_world._.polarity)\n",
    "print(mad_world._.subjectivity)"
   ]
  },
  {
   "cell_type": "code",
   "execution_count": 88,
   "metadata": {},
   "outputs": [
    {
     "name": "stdout",
     "output_type": "stream",
     "text": [
      "0.4142857142857143\n",
      "0.5642857142857143\n"
     ]
    }
   ],
   "source": [
    "print(wond_world._.polarity)\n",
    "print(wond_world._.subjectivity)"
   ]
  },
  {
   "cell_type": "code",
   "execution_count": 89,
   "metadata": {},
   "outputs": [
    {
     "name": "stdout",
     "output_type": "stream",
     "text": [
      "0.1357142857142857\n",
      "0.3964285714285714\n"
     ]
    }
   ],
   "source": [
    "print(silence._.polarity)\n",
    "print(silence._.subjectivity)"
   ]
  },
  {
   "cell_type": "code",
   "execution_count": 90,
   "metadata": {},
   "outputs": [
    {
     "name": "stdout",
     "output_type": "stream",
     "text": [
      "0.17197802197802198\n",
      "0.31043956043956045\n"
     ]
    }
   ],
   "source": [
    "print(blue_skies._.polarity)\n",
    "print(blue_skies._.subjectivity)"
   ]
  },
  {
   "cell_type": "code",
   "execution_count": 91,
   "metadata": {},
   "outputs": [
    {
     "data": {
      "text/plain": [
       "[(['familiar'], 0.375, 0.5, None),\n",
       " (['bright'], 0.7000000000000001, 0.7999999999999999, None),\n",
       " (['early'], 0.1, 0.3, None),\n",
       " (['daily'], 0.0, 0.0, None),\n",
       " (['kind'], 0.6, 0.9, None),\n",
       " (['funny'], 0.25, 1.0, None),\n",
       " (['kind'], 0.6, 0.9, None),\n",
       " (['sad'], -0.5, 1.0, None),\n",
       " (['best'], 1.0, 0.3, None),\n",
       " (['hard'], -0.2916666666666667, 0.5416666666666666, None),\n",
       " (['hard'], -0.2916666666666667, 0.5416666666666666, None),\n",
       " (['very', 'very', 'mad'], -0.8125, 1.0, None),\n",
       " (['mad'], -0.625, 1.0, None),\n",
       " (['mad'], -0.625, 1.0, None),\n",
       " (['mad'], -0.625, 1.0, None),\n",
       " (['good'], 0.7, 0.6000000000000001, None),\n",
       " (['happy'], 0.8, 1.0, None),\n",
       " (['happy'], 0.8, 1.0, None),\n",
       " (['very'], 0.2, 0.3, None),\n",
       " (['right'], 0.2857142857142857, 0.5357142857142857, None),\n",
       " (['right'], 0.2857142857142857, 0.5357142857142857, None),\n",
       " (['kind'], 0.6, 0.9, None),\n",
       " (['funny'], 0.25, 1.0, None),\n",
       " (['kind'], 0.6, 0.9, None),\n",
       " (['sad'], -0.5, 1.0, None),\n",
       " (['best'], 1.0, 0.3, None),\n",
       " (['hard'], -0.2916666666666667, 0.5416666666666666, None),\n",
       " (['hard'], -0.2916666666666667, 0.5416666666666666, None),\n",
       " (['very', 'very', 'mad'], -0.8125, 1.0, None),\n",
       " (['mad'], -0.625, 1.0, None),\n",
       " (['mad'], -0.625, 1.0, None),\n",
       " (['mad'], -0.625, 1.0, None),\n",
       " (['kind'], 0.6, 0.9, None),\n",
       " (['funny'], 0.25, 1.0, None),\n",
       " (['kind'], 0.6, 0.9, None),\n",
       " (['sad'], -0.5, 1.0, None),\n",
       " (['best'], 1.0, 0.3, None),\n",
       " (['hard'], -0.2916666666666667, 0.5416666666666666, None),\n",
       " (['hard'], -0.2916666666666667, 0.5416666666666666, None),\n",
       " (['very', 'very', 'mad'], -0.8125, 1.0, None),\n",
       " (['mad'], -0.625, 1.0, None),\n",
       " (['mad'], -0.625, 1.0, None)]"
      ]
     },
     "execution_count": 91,
     "metadata": {},
     "output_type": "execute_result"
    }
   ],
   "source": [
    "mad_world._.assessments"
   ]
  },
  {
   "cell_type": "code",
   "execution_count": 92,
   "metadata": {},
   "outputs": [
    {
     "data": {
      "text/plain": [
       "[(['green'], -0.2, 0.3, None),\n",
       " (['red'], 0.0, 0.0, None),\n",
       " (['wonderful'], 1.0, 1.0, None),\n",
       " (['blue'], 0.0, 0.1, None),\n",
       " (['white'], 0.0, 0.0, None),\n",
       " (['bright'], 0.7000000000000001, 0.7999999999999999, None),\n",
       " (['dark'], -0.15, 0.4, None),\n",
       " (['wonderful'], 1.0, 1.0, None),\n",
       " (['pretty'], 0.25, 1.0, None),\n",
       " (['really'], 0.2, 0.2, None),\n",
       " (['love'], 0.5, 0.6, None),\n",
       " (['much', 'more'], 0.5, 0.5, None),\n",
       " (['wonderful'], 1.0, 1.0, None),\n",
       " (['wonderful'], 1.0, 1.0, None)]"
      ]
     },
     "execution_count": 92,
     "metadata": {},
     "output_type": "execute_result"
    }
   ],
   "source": [
    "wond_world._.assessments"
   ]
  },
  {
   "cell_type": "code",
   "execution_count": 93,
   "metadata": {},
   "outputs": [
    {
     "data": {
      "text/plain": [
       "0.9855474863186682"
      ]
     },
     "execution_count": 93,
     "metadata": {},
     "output_type": "execute_result"
    }
   ],
   "source": [
    "best  = nlp(\"Monday is the best day of the week!\")\n",
    "worst = nlp(\"Monday is the worst day of the week!\")\n",
    "\n",
    "best.similarity(worst)\n",
    "\n",
    "# Idea, remove shared words between songs?"
   ]
  },
  {
   "cell_type": "code",
   "execution_count": 94,
   "metadata": {},
   "outputs": [
    {
     "name": "stdout",
     "output_type": "stream",
     "text": [
      "1.0\n",
      "-1.0\n"
     ]
    }
   ],
   "source": [
    "print(best._.polarity)\n",
    "print(worst._.polarity)"
   ]
  },
  {
   "cell_type": "code",
   "execution_count": 113,
   "metadata": {},
   "outputs": [
    {
     "name": "stdout",
     "output_type": "stream",
     "text": [
      "      Blue Skies <-> What a Wonderful World        | polarity: -0.24230769230769234 | similarity: 0.8942985693398715\n",
      "       Blue Skies <-> The Sound of Silence         | polarity: 0.036263736263736274 | similarity: 0.879295268353476\n",
      "             Blue Skies <-> Mad World              | polarity:  0.15033686551543693 | similarity: 0.8973674854927597\n",
      " What a Wonderful World <-> The Sound of Silence   | polarity:   0.2785714285714286 | similarity: 0.8683464537820359\n",
      "       What a Wonderful World <-> Mad World        | polarity:  0.39264455782312924 | similarity: 0.9570395874858139\n",
      "        The Sound of Silence <-> Mad World         | polarity:  0.11407312925170064 | similarity: 0.8872459668576334\n"
     ]
    }
   ],
   "source": [
    "songs = [\n",
    "    [\"Blue Skies\", blue_skies],\n",
    "    [\"What a Wonderful World\", wond_world],\n",
    "    [\"The Sound of Silence\", silence],\n",
    "    [\"Mad World\", mad_world]\n",
    "]\n",
    "\n",
    "# Raw comparison without any adjustments\n",
    "for i in range(len(songs)):\n",
    "    s1_name = songs[i][0]\n",
    "    s1_song = songs[i][1]\n",
    "    for j in range(i + 1, len(songs)):\n",
    "        s2_name = songs[j][0]\n",
    "        s2_song = songs[j][1]\n",
    "        song_pair = s1_name + ' <-> ' + s2_name\n",
    "        print(f'{song_pair: ^50} | polarity: {s1_song._.polarity - s2_song._.polarity: >20} | similarity: {s1_song.similarity(s2_song)}')"
   ]
  },
  {
   "cell_type": "code",
   "execution_count": 120,
   "metadata": {},
   "outputs": [
    {
     "name": "stdout",
     "output_type": "stream",
     "text": [
      "      Blue Skies <-> What a Wonderful World        | distance: 0.2643592445803196\n",
      "       Blue Skies <-> The Sound of Silence         | distance: 0.12603448262148412\n",
      "             Blue Skies <-> Mad World              | distance: 0.18202913548958435\n",
      " What a Wonderful World <-> The Sound of Silence   | distance: 0.30811474656058274\n",
      "       What a Wonderful World <-> Mad World        | distance: 0.394987779344513\n",
      "        The Sound of Silence <-> Mad World         | distance: 0.160393736807723\n"
     ]
    }
   ],
   "source": [
    "import numpy as np\n",
    "songs = [\n",
    "    [\"Blue Skies\", blue_skies],\n",
    "    [\"What a Wonderful World\", wond_world],\n",
    "    [\"The Sound of Silence\", silence],\n",
    "    [\"Mad World\", mad_world]\n",
    "]\n",
    "\n",
    "# Raw comparison without any adjustments\n",
    "for i in range(len(songs)):\n",
    "    s1_name = songs[i][0]\n",
    "    s1_song = songs[i][1]\n",
    "\n",
    "    for j in range(i + 1, len(songs)):\n",
    "        s2_name = songs[j][0]\n",
    "        s2_song = songs[j][1]\n",
    "\n",
    "        song_pair = s1_name + ' <-> ' + s2_name\n",
    "        ideal = np.array([1, 0])\n",
    "        cosine_mood = np.array([\n",
    "            s1_song.similarity(s2_song),\n",
    "            s1_song._.polarity - s2_song._.polarity\n",
    "        ])\n",
    "        difference = ideal - cosine_mood\n",
    "\n",
    "        print(f'{song_pair: ^50} | distance: {np.hypot(difference[0], difference[1])}')"
   ]
  },
  {
   "cell_type": "code",
   "execution_count": 121,
   "metadata": {},
   "outputs": [
    {
     "data": {
      "text/plain": [
       "[['Blue Skies',\n",
       "  Blue skies , smiling      blue skies      Blue days , gone      blue skies      saw sun shining bright      saw things looking right      Noticing days hurrying      love , fly like      Bluebirds singing song      bluebirds day long      Blue skies , smiling      blue skies      Blue days , gone      blue skies],\n",
       " ['What a Wonderful World',\n",
       "  trees green      Red roses      bloom           think      wonderful world      skies blue      clouds white      bright blessed day      dark sacred night      think      wonderful world      colors rainbow      pretty sky      faces      people going      friends shaking hands      Saying , \" ? \"      saying      love      hear babies cry      watch grow      learn      know      think      wonderful world      Yes , think      wonderful world      Ooh , yes],\n",
       " ['The Sound of Silence',\n",
       "  Hello darkness , old friend      come talk      vision softly creeping      Left seeds sleeping      vision planted brain      remains      sound silence      restless dreams walked      Narrow streets cobblestone      ' Neath halo street lamp      turned collar cold damp      eyes stabbed flash neon light      split night      touched sound silence      naked light saw      thousand people , maybe      People talking speaking      People hearing listening      People writing songs voices share      dared      Disturb sound silence      \" Fools \" said , \" know      Silence like cancer grows      Hear words teach      arms reach \"      words like silent raindrops fell      echoed wells silence      people bowed prayed      neon god      sign flashed warning      words forming      sign said , \" words prophets      written subway walls      tenement halls      whispered sounds silence \"],\n",
       " ['Mad World',\n",
       "  familiar faces      Worn places , worn faces      Bright early daily races      Going , going      tears filling glasses      expression , expression      Hide head want drown sorrow      tomorrow , tomorrow      find kind funny      find kind sad      dreams dying best      find hard tell 'cause find hard      people run circles ,      Mad world      Mad world      Mad world      Mad world      Children waiting day feel good      Happy birthday , happy birthday      feel way child      Sit listen , sit listen      Went school nervous      knew , knew      Hello teacher tell lesson      Look right , look right      find kind funny      find kind sad      dreams dying best      find hard tell 'cause find hard      people run circles ,      Mad world      Mad world      Mad world      Mad world      find kind funny      find kind sad      dreams dying best      find hard tell 'cause find hard      people run circles ,      Mad world      Mad world      Halargian world      Mad world]]"
      ]
     },
     "execution_count": 121,
     "metadata": {},
     "output_type": "execute_result"
    }
   ],
   "source": [
    "# Removing Stop Words\n",
    "no_stop_songs = [0]*len(songs)\n",
    "for i in range(len(songs)):\n",
    "    song = songs[i][1]\n",
    "    new_song = nlp(' '.join([str(t) for t in song if not t.is_stop]))\n",
    "    no_stop_songs[i] = [songs[i][0], new_song]\n",
    "\n",
    "no_stop_songs "
   ]
  },
  {
   "cell_type": "code",
   "execution_count": 123,
   "metadata": {},
   "outputs": [
    {
     "name": "stdout",
     "output_type": "stream",
     "text": [
      "      Blue Skies <-> What a Wonderful World        | distance: 0.308\n",
      "       Blue Skies <-> The Sound of Silence         | distance: 0.271\n",
      "             Blue Skies <-> Mad World              | distance: 0.383\n",
      " What a Wonderful World <-> The Sound of Silence   | distance: 0.31\n",
      "       What a Wonderful World <-> Mad World        | distance: 0.412\n",
      "        The Sound of Silence <-> Mad World         | distance: 0.252\n"
     ]
    }
   ],
   "source": [
    "import numpy as np\n",
    "\n",
    "# Similarity Distances after filtering stop words\n",
    "for i in range(len(songs)):\n",
    "    s1_name = songs[i][0]\n",
    "    s1_song = songs[i][1]\n",
    "\n",
    "    s1_no_name = no_stop_songs[i][0]\n",
    "    s1_no_song = no_stop_songs[i][1]\n",
    "\n",
    "    for j in range(i + 1, len(songs)):\n",
    "        s2_name = songs[j][0]\n",
    "        s2_song = songs[j][1]\n",
    "\n",
    "        s2_no_name = no_stop_songs[j][0]\n",
    "        s2_no_song = no_stop_songs[j][1]\n",
    "\n",
    "        song_pair = s1_name + ' <-> ' + s2_name\n",
    "        ideal = np.array([1, 0])\n",
    "        cosine_mood = np.array([\n",
    "            s1_no_song.similarity(s2_no_song),\n",
    "            s1_song._.polarity - s2_song._.polarity\n",
    "        ])\n",
    "        difference = ideal - cosine_mood\n",
    "        print(f'{song_pair: ^50} | distance: {round(np.hypot(difference[0], difference[1]), 3)}')"
   ]
  }
 ],
 "metadata": {
  "kernelspec": {
   "display_name": "npl",
   "language": "python",
   "name": "python3"
  },
  "language_info": {
   "codemirror_mode": {
    "name": "ipython",
    "version": 3
   },
   "file_extension": ".py",
   "mimetype": "text/x-python",
   "name": "python",
   "nbconvert_exporter": "python",
   "pygments_lexer": "ipython3",
   "version": "3.9.18"
  }
 },
 "nbformat": 4,
 "nbformat_minor": 2
}
