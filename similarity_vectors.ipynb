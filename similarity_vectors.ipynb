{
 "cells": [
  {
   "cell_type": "code",
   "execution_count": 1,
   "metadata": {},
   "outputs": [],
   "source": [
    "import spacy\n",
    "from spacytextblob.spacytextblob import SpacyTextBlob"
   ]
  },
  {
   "cell_type": "code",
   "execution_count": 2,
   "metadata": {},
   "outputs": [
    {
     "name": "stderr",
     "output_type": "stream",
     "text": [
      "/Users/zyankarim/miniconda3/envs/npl/lib/python3.9/site-packages/tqdm/auto.py:21: TqdmWarning: IProgress not found. Please update jupyter and ipywidgets. See https://ipywidgets.readthedocs.io/en/stable/user_install.html\n",
      "  from .autonotebook import tqdm as notebook_tqdm\n"
     ]
    },
    {
     "data": {
      "text/plain": [
       "<spacytextblob.spacytextblob.SpacyTextBlob at 0x17aebdb50>"
      ]
     },
     "execution_count": 2,
     "metadata": {},
     "output_type": "execute_result"
    }
   ],
   "source": [
    "nlp = spacy.load('en_core_web_md')\n",
    "nlp.add_pipe('spacytextblob')"
   ]
  },
  {
   "cell_type": "code",
   "execution_count": 3,
   "metadata": {},
   "outputs": [],
   "source": [
    "# load in two \"happy\" songs and two \"sad\" songs\n",
    "\n",
    "# Blue Skies by Frank Sinatra\n",
    "blue_skies = nlp(\n",
    "    \"Blue skies, smiling at me \\\n",
    "    Nothing but blue skies do I see \\\n",
    "    Blue days, all of them gone \\\n",
    "    Nothing but blue skies from now on \\\n",
    "    Never saw the sun shining so bright \\\n",
    "    Never saw things looking so right \\\n",
    "    Noticing the days hurrying by \\\n",
    "    When you're in love, my how they fly like \\\n",
    "    Bluebirds singing a song \\\n",
    "    Nothing but bluebirds all day long \\\n",
    "    Blue skies, smiling at me \\\n",
    "    Nothing but blue skies do I see \\\n",
    "    Blue days, all of them gone \\\n",
    "    Nothing but blue skies from now on\"\n",
    ")\n",
    "\n",
    "# What a Wonderful World by Louis Armstrong\n",
    "wond_world = nlp(\n",
    "    \"I see trees of green \\\n",
    "    Red roses too \\\n",
    "    I see them bloom \\\n",
    "    For me and you \\\n",
    "    And I think to myself \\\n",
    "    What a wonderful world \\\n",
    "    I see skies of blue \\\n",
    "    And clouds of white \\\n",
    "    The bright blessed day \\\n",
    "    The dark sacred night \\\n",
    "    And I think to myself \\\n",
    "    What a wonderful world \\\n",
    "    The colors of the rainbow \\\n",
    "    So pretty in the sky \\\n",
    "    Are also on the faces \\\n",
    "    Of people going by \\\n",
    "    I see friends shaking hands \\\n",
    "    Saying, \\\"How do you do?\\\" \\\n",
    "    They\\'re really saying \\\n",
    "    I love you \\\n",
    "    I hear babies cry \\\n",
    "    I watch them grow \\\n",
    "    They\\'ll learn much more \\\n",
    "    Than I\\'ll ever know \\\n",
    "    And I think to myself \\\n",
    "    What a wonderful world \\\n",
    "    Yes, I think to myself \\\n",
    "    What a wonderful world \\\n",
    "    Ooh, yes\"\n",
    ")\n",
    "\n",
    "# The Sound of Silence by Simon and Garfunkel\n",
    "silence = nlp(\n",
    "    \"Hello darkness, my old friend \\\n",
    "    I\\'ve come to talk with you again \\\n",
    "    Because a vision softly creeping \\\n",
    "    Left its seeds while I was sleeping \\\n",
    "    And the vision that was planted in my brain \\\n",
    "    Still remains \\\n",
    "    Within the sound of silence \\\n",
    "    In restless dreams I walked alone \\\n",
    "    Narrow streets of cobblestone \\\n",
    "    \\'Neath the halo of a street lamp \\\n",
    "    I turned my collar to the cold and damp \\\n",
    "    When my eyes were stabbed by the flash of a neon light \\\n",
    "    That split the night \\\n",
    "    And touched the sound of silence \\\n",
    "    And in the naked light I saw \\\n",
    "    Ten thousand people, maybe more \\\n",
    "    People talking without speaking \\\n",
    "    People hearing without listening \\\n",
    "    People writing songs that voices never share \\\n",
    "    No one dared \\\n",
    "    Disturb the sound of silence \\\n",
    "    \\\"Fools\\\" said I, \\\"You do not know \\\n",
    "    Silence like a cancer grows \\\n",
    "    Hear my words that I might teach you \\\n",
    "    Take my arms that I might reach you\\\" \\\n",
    "    But my words like silent raindrops fell \\\n",
    "    And echoed in the wells of silence \\\n",
    "    And the people bowed and prayed \\\n",
    "    To the neon god they made \\\n",
    "    And the sign flashed out its warning \\\n",
    "    In the words that it was forming \\\n",
    "    And the sign said, \\\"The words of the prophets \\\n",
    "    Are written on the subway walls \\\n",
    "    And tenement halls \\\n",
    "    And whispered in the sounds of silence\\\" \"\n",
    ")\n",
    "\n",
    "# Mad World by Tears for Fears\n",
    "mad_world = nlp(\n",
    "    \"All around me are familiar faces \\\n",
    "    Worn out places, worn out faces \\\n",
    "    Bright and early for their daily races \\\n",
    "    Going nowhere, going nowhere \\\n",
    "    Their tears are filling up their glasses \\\n",
    "    No expression, no expression \\\n",
    "    Hide my head I want to drown my sorrow \\\n",
    "    No tomorrow, no tomorrow \\\n",
    "    And I find it kind of funny \\\n",
    "    I find it kind of sad \\\n",
    "    The dreams in which I\\'m dying are the best I\\'ve ever had \\\n",
    "    I find it hard to tell you \\'cause I find it hard to take \\\n",
    "    When people run in circles it\\'s a very, very \\\n",
    "    Mad world \\\n",
    "    Mad world \\\n",
    "    Mad world \\\n",
    "    Mad world \\\n",
    "    Children waiting for the day they feel good \\\n",
    "    Happy birthday, happy birthday \\\n",
    "    Made to feel the way that every child should \\\n",
    "    Sit and listen, sit and listen \\\n",
    "    Went to school and I was very nervous \\\n",
    "    No one knew me, no one knew me \\\n",
    "    Hello teacher tell me what's my lesson \\\n",
    "    Look right through me, look right through me \\\n",
    "    And I find it kind of funny \\\n",
    "    I find it kind of sad \\\n",
    "    The dreams in which I'm dying are the best I've ever had \\\n",
    "    I find it hard to tell you 'cause I find it hard to take \\\n",
    "    When people run in circles it\\'s a very, very \\\n",
    "    Mad world \\\n",
    "    Mad world \\\n",
    "    Mad world \\\n",
    "    Mad world \\\n",
    "    And I find it kind of funny \\\n",
    "    I find it kind of sad \\\n",
    "    The dreams in which I\\'m dying are the best I\\'ve ever had \\\n",
    "    I find it hard to tell you \\'cause I find it hard to take \\\n",
    "    When people run in circles it\\'s a very, very \\\n",
    "    Mad world \\\n",
    "    Mad world \\\n",
    "    Halargian world \\\n",
    "    Mad world\"\n",
    ")"
   ]
  },
  {
   "cell_type": "code",
   "execution_count": 4,
   "metadata": {},
   "outputs": [],
   "source": [
    "songs = [\n",
    "    blue_skies,\n",
    "    wond_world,\n",
    "    silence,\n",
    "    mad_world\n",
    "]"
   ]
  },
  {
   "cell_type": "code",
   "execution_count": 5,
   "metadata": {},
   "outputs": [],
   "source": [
    "# from numpy import dot\n",
    "\n",
    "def sem_distance(vec1, vec2):\n",
    "    dist = 0\n",
    "    for v1, v2 in zip(vec1, vec2):\n",
    "        dist += (v1 - v2)**2\n",
    "    \n",
    "    return dist\n",
    "\n",
    "# take a list of song doc objects and convert it into a similarity \"tensor\"\n",
    "def similarity_tensor(target, songs):\n",
    "    tensor = []\n",
    "    t_semantics = [target._.polarity, target._.subjectivity]\n",
    "    for song in songs:\n",
    "        s_semantics = [song._.polarity, song._.subjectivity]\n",
    "        vec = [\n",
    "            (1 - target.similarity(song)), # difference score\n",
    "            sem_distance(t_semantics, s_semantics) # semantic distance\n",
    "        ]\n",
    "        tensor.append(vec)\n",
    "\n",
    "    return tensor"
   ]
  },
  {
   "cell_type": "code",
   "execution_count": 6,
   "metadata": {},
   "outputs": [
    {
     "data": {
      "text/plain": [
       "[[0.0, 0.0],\n",
       " [0.10570143066012849, 0.1231508875739645],\n",
       " [0.12070473164652396, 0.008709168578674069],\n",
       " [0.10263251450724031, 0.22904087312240962]]"
      ]
     },
     "execution_count": 6,
     "metadata": {},
     "output_type": "execute_result"
    }
   ],
   "source": [
    "sim_tensor = similarity_tensor(blue_skies, songs)\n",
    "sim_tensor"
   ]
  },
  {
   "cell_type": "code",
   "execution_count": 12,
   "metadata": {},
   "outputs": [
    {
     "data": {
      "text/plain": [
       "<matplotlib.collections.PathCollection at 0x1077d7a60>"
      ]
     },
     "execution_count": 12,
     "metadata": {},
     "output_type": "execute_result"
    },
    {
     "data": {
      "image/png": "[encoded data removed]",
      "text/plain": [
       "<Figure size 640x480 with 1 Axes>"
      ]
     },
     "metadata": {},
     "output_type": "display_data"
    }
   ],
   "source": [
    "import matplotlib.pyplot as plt\n",
    "import numpy as np\n",
    "\n",
    "points = np.array(sim_tensor)\n",
    "x = points[:, 0]\n",
    "y = points[:, 1]\n",
    "\n",
    "plt.scatter(x, y)"
   ]
  },
  {
   "cell_type": "code",
   "execution_count": null,
   "metadata": {},
   "outputs": [],
   "source": []
  }
 ],
 "metadata": {
  "kernelspec": {
   "display_name": "npl",
   "language": "python",
   "name": "python3"
  },
  "language_info": {
   "codemirror_mode": {
    "name": "ipython",
    "version": 3
   },
   "file_extension": ".py",
   "mimetype": "text/x-python",
   "name": "python",
   "nbconvert_exporter": "python",
   "pygments_lexer": "ipython3",
   "version": "3.9.18"
  }
 },
 "nbformat": 4,
 "nbformat_minor": 2
}
